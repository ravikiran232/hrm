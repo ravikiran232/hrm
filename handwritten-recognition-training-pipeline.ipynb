{
 "cells": [
  {
   "cell_type": "markdown",
   "metadata": {},
   "source": [
    "# CCIS Analytics Hackathon \n",
    "BombSquad (Original Name: Group O)\n",
    "1. Kolla Ananta Raj - IIT Kharagpur\n",
    "2. Gurugubelli Ravi Kiran - IIT Kanpur"
   ]
  },
  {
   "cell_type": "markdown",
   "metadata": {},
   "source": [
    "# Handwritten word recognition (Image - to - Text) Training Pipeline"
   ]
  },
  {
   "cell_type": "markdown",
   "metadata": {},
   "source": [
    "**We can break the implementation of network into following steps:**\n",
    "\n",
    "1. Import Data\n",
    "\n",
    "2. Data Preprocessing\n",
    "\n",
    "3. Model Building\n",
    "\n",
    "4. Defining Loss Function\n",
    "\n",
    "5. Training Model\n",
    "\n",
    "6. Decoding Outputs from Prediction"
   ]
  },
  {
   "cell_type": "markdown",
   "metadata": {},
   "source": [
    "# Import Libraries"
   ]
  },
  {
   "cell_type": "code",
   "execution_count": 1,
   "metadata": {
    "execution": {
     "iopub.execute_input": "2022-12-30T17:29:46.171996Z",
     "iopub.status.busy": "2022-12-30T17:29:46.171666Z",
     "iopub.status.idle": "2022-12-30T17:29:51.385657Z",
     "shell.execute_reply": "2022-12-30T17:29:51.384822Z",
     "shell.execute_reply.started": "2022-12-30T17:29:46.171918Z"
    }
   },
   "outputs": [],
   "source": [
    "import numpy as np\n",
    "import cv2\n",
    "import os\n",
    "import pandas as pd\n",
    "import string\n",
    "import matplotlib.pyplot as plt\n",
    "\n",
    "from keras.preprocessing.sequence import pad_sequences\n",
    "\n",
    "from keras.layers import Dense, LSTM, Reshape, BatchNormalization, Input, Conv2D, MaxPool2D, Lambda, Bidirectional\n",
    "from keras.models import Model\n",
    "from keras.activations import relu, sigmoid, softmax\n",
    "import keras.backend as K\n",
    "\n",
    "from keras.utils import to_categorical\n",
    "from keras.callbacks import ModelCheckpoint\n",
    "\n",
    "\n",
    "from sklearn.model_selection import train_test_split\n",
    "from sklearn.preprocessing import MinMaxScaler\n",
    "\n",
    "from PIL import Image\n",
    "\n",
    "import tensorflow as tf\n",
    "\n",
    "#ignore warnings in the output\n",
    "tf.compat.v1.logging.set_verbosity(tf.compat.v1.logging.ERROR)\n"
   ]
  },
  {
   "cell_type": "markdown",
   "metadata": {},
   "source": [
    "# Intialize the variable"
   ]
  },
  {
   "cell_type": "code",
   "execution_count": 2,
   "metadata": {
    "execution": {
     "iopub.execute_input": "2022-12-30T17:29:51.389250Z",
     "iopub.status.busy": "2022-12-30T17:29:51.388974Z",
     "iopub.status.idle": "2022-12-30T17:29:51.395503Z",
     "shell.execute_reply": "2022-12-30T17:29:51.393868Z",
     "shell.execute_reply.started": "2022-12-30T17:29:51.389219Z"
    }
   },
   "outputs": [],
   "source": [
    "train_images = []\n",
    "train_labels = []\n",
    "train_input_length = []\n",
    "train_label_length = []\n",
    "train_original_text = []\n",
    "\n",
    "valid_images = []\n",
    "valid_labels = []\n",
    "valid_input_length = []\n",
    "valid_label_length = []\n",
    "valid_original_text = []\n",
    "\n",
    "test_images = []\n",
    "test_labels = []\n",
    "test_input_length = []\n",
    "test_label_length = []\n",
    "test_original_text = []\n",
    "\n",
    "inputs_length = []\n",
    "labels_length = []"
   ]
  },
  {
   "cell_type": "markdown",
   "metadata": {},
   "source": [
    "# Import Data"
   ]
  },
  {
   "cell_type": "code",
   "execution_count": 3,
   "metadata": {
    "execution": {
     "iopub.execute_input": "2022-12-30T17:29:51.398010Z",
     "iopub.status.busy": "2022-12-30T17:29:51.397488Z",
     "iopub.status.idle": "2022-12-30T17:29:51.596310Z",
     "shell.execute_reply": "2022-12-30T17:29:51.595429Z",
     "shell.execute_reply.started": "2022-12-30T17:29:51.397974Z"
    }
   },
   "outputs": [
    {
     "data": {
      "text/plain": [
       "'a05-108-05-01 ok 182 637 1682 94 47 IN by'"
      ]
     },
     "execution_count": 3,
     "metadata": {},
     "output_type": "execute_result"
    }
   ],
   "source": [
    "\n",
    "with open('words.txt') as f:\n",
    "    contents = f.readlines()[18:]\n",
    "\n",
    "lines = [line.strip() for line in contents] \n",
    "import random\n",
    "random.shuffle(lines)\n",
    "lines[-1]"
   ]
  },
  {
   "cell_type": "markdown",
   "metadata": {},
   "source": [
    "# Data-Preprocessing"
   ]
  },
  {
   "cell_type": "markdown",
   "metadata": {},
   "source": [
    "**1. Image Pre-processing**"
   ]
  },
  {
   "cell_type": "code",
   "execution_count": 4,
   "metadata": {
    "execution": {
     "iopub.execute_input": "2022-12-30T17:29:51.598214Z",
     "iopub.status.busy": "2022-12-30T17:29:51.597871Z",
     "iopub.status.idle": "2022-12-30T17:29:51.606900Z",
     "shell.execute_reply": "2022-12-30T17:29:51.605062Z",
     "shell.execute_reply.started": "2022-12-30T17:29:51.598161Z"
    }
   },
   "outputs": [],
   "source": [
    "def process_image(img):\n",
    "    \n",
    "    w, h = img.shape\n",
    "    \n",
    "    # Aspect Ratio Calculation\n",
    "    new_w = 32\n",
    "    new_h = int(h * (new_w / w))\n",
    "    img = cv2.resize(img, (new_h, new_w))\n",
    "    w, h = img.shape\n",
    "    \n",
    "    img = img.astype('float32')\n",
    "    \n",
    "    # Converts each to (32, 128, 1)\n",
    "    if w < 32:\n",
    "        add_zeros = np.full((32-w, h), 255)\n",
    "        img = np.concatenate((img, add_zeros))\n",
    "        w, h = img.shape\n",
    "    \n",
    "    if h < 128:\n",
    "        add_zeros = np.full((w, 128-h), 255)\n",
    "        img = np.concatenate((img, add_zeros), axis=1)\n",
    "        w, h = img.shape\n",
    "        \n",
    "    if h > 128 or w > 32:\n",
    "        dim = (128,32)\n",
    "        img = cv2.resize(img, dim)\n",
    "    \n",
    "    img = cv2.subtract(255, img)\n",
    "    \n",
    "    img = np.expand_dims(img, axis=2)\n",
    "    \n",
    "    # Normalize \n",
    "    img = img / 255\n",
    "    \n",
    "    return img"
   ]
  },
  {
   "cell_type": "markdown",
   "metadata": {},
   "source": [
    "**2. Label-Encoding**"
   ]
  },
  {
   "cell_type": "code",
   "execution_count": 5,
   "metadata": {
    "execution": {
     "iopub.execute_input": "2022-12-30T17:29:51.609443Z",
     "iopub.status.busy": "2022-12-30T17:29:51.609093Z",
     "iopub.status.idle": "2022-12-30T17:29:51.619483Z",
     "shell.execute_reply": "2022-12-30T17:29:51.618631Z",
     "shell.execute_reply.started": "2022-12-30T17:29:51.609408Z"
    }
   },
   "outputs": [
    {
     "name": "stdout",
     "output_type": "stream",
     "text": [
      "!\"#&'()*+,-./0123456789:;?ABCDEFGHIJKLMNOPQRSTUVWXYZabcdefghijklmnopqrstuvwxyz 78\n"
     ]
    }
   ],
   "source": [
    "max_label_len = 0\n",
    "\n",
    "# letters present in the labels\n",
    "char_list = \"!\\\"#&'()*+,-./0123456789:;?ABCDEFGHIJKLMNOPQRSTUVWXYZabcdefghijklmnopqrstuvwxyz\" \n",
    "\n",
    "print(char_list, len(char_list))\n",
    "\n",
    "def encode_to_labels(txt):\n",
    "    # encoding each output word into digits\n",
    "    dig_lst = []\n",
    "    for index, chara in enumerate(txt):\n",
    "        dig_lst.append(char_list.index(chara))\n",
    "        \n",
    "    return dig_lst"
   ]
  },
  {
   "cell_type": "markdown",
   "metadata": {},
   "source": [
    "# IAM-Dataset"
   ]
  },
  {
   "cell_type": "code",
   "execution_count": null,
   "metadata": {
    "execution": {
     "iopub.execute_input": "2022-12-30T17:29:51.621314Z",
     "iopub.status.busy": "2022-12-30T17:29:51.620827Z",
     "iopub.status.idle": "2022-12-30T17:43:11.002808Z",
     "shell.execute_reply": "2022-12-30T17:43:11.001944Z",
     "shell.execute_reply.started": "2022-12-30T17:29:51.621265Z"
    },
    "scrolled": true
   },
   "outputs": [],
   "source": [
    "for index, line in enumerate(lines):\n",
    "    splits = line.split(' ')\n",
    "    status = splits[1]\n",
    "    \n",
    "    if status == 'ok':\n",
    "        print(index)\n",
    "        word_id = splits[0]\n",
    "        word = \"\".join(splits[8:])\n",
    "        \n",
    "        splits_id = word_id.split('-')\n",
    "        filepath = 'words/{}/{}-{}/{}.png'.format(splits_id[0], \n",
    "                                                  splits_id[0], \n",
    "                                                  splits_id[1], \n",
    "                                                  word_id)\n",
    "      \n",
    "        # process image\n",
    "        img = cv2.imread(filepath, cv2.IMREAD_GRAYSCALE)\n",
    "        try:\n",
    "            img = process_image(img)\n",
    "        except:\n",
    "            continue\n",
    "            \n",
    "        # process label\n",
    "        try:\n",
    "            label = encode_to_labels(word)\n",
    "        except:\n",
    "            continue\n",
    "        \n",
    "        if index % 10 >=8 :\n",
    "            test_images.append(img)\n",
    "            test_labels.append(label)\n",
    "            test_input_length.append(31)\n",
    "            test_label_length.append(len(word))\n",
    "            test_original_text.append(word)\n",
    "        elif index %10>=6:\n",
    "            valid_images.append(img)\n",
    "            valid_labels.append(label)\n",
    "            valid_input_length.append(31)\n",
    "            valid_label_length.append(len(word))\n",
    "            valid_original_text.append(word)\n",
    "        else:\n",
    "            train_images.append(img)\n",
    "            train_labels.append(label)\n",
    "            train_input_length.append(31)\n",
    "            train_label_length.append(len(word))\n",
    "            train_original_text.append(word)\n",
    "        \n",
    "        if len(word) > max_label_len:\n",
    "            max_label_len = len(word)"
   ]
  },
  {
   "cell_type": "code",
   "execution_count": 7,
   "metadata": {
    "execution": {
     "iopub.execute_input": "2022-12-30T17:43:11.004685Z",
     "iopub.status.busy": "2022-12-30T17:43:11.004254Z",
     "iopub.status.idle": "2022-12-30T17:43:11.014464Z",
     "shell.execute_reply": "2022-12-30T17:43:11.013522Z",
     "shell.execute_reply.started": "2022-12-30T17:43:11.004641Z"
    }
   },
   "outputs": [
    {
     "data": {
      "text/plain": [
       "(57924, 57924)"
      ]
     },
     "execution_count": 7,
     "metadata": {},
     "output_type": "execute_result"
    }
   ],
   "source": [
    "len(train_images),len(train_labels)"
   ]
  },
  {
   "cell_type": "code",
   "execution_count": 8,
   "metadata": {
    "execution": {
     "iopub.execute_input": "2022-12-30T17:43:11.018128Z",
     "iopub.status.busy": "2022-12-30T17:43:11.017813Z",
     "iopub.status.idle": "2022-12-30T17:43:11.366117Z",
     "shell.execute_reply": "2022-12-30T17:43:11.365278Z",
     "shell.execute_reply.started": "2022-12-30T17:43:11.018095Z"
    }
   },
   "outputs": [],
   "source": [
    "# padding the label sequences\n",
    "train_padded_label = pad_sequences(train_labels, \n",
    "                             maxlen=max_label_len, \n",
    "                             padding='post',\n",
    "                             value=len(char_list))\n",
    "\n",
    "valid_padded_label = pad_sequences(valid_labels, \n",
    "                             maxlen=max_label_len, \n",
    "                             padding='post',\n",
    "                             value=len(char_list))\n",
    "\n",
    "test_padded_label = pad_sequences(test_labels, \n",
    "                             maxlen=max_label_len, \n",
    "                             padding='post',\n",
    "                             value=len(char_list))"
   ]
  },
  {
   "cell_type": "code",
   "execution_count": 9,
   "metadata": {
    "execution": {
     "iopub.execute_input": "2022-12-30T17:43:11.368183Z",
     "iopub.status.busy": "2022-12-30T17:43:11.367897Z",
     "iopub.status.idle": "2022-12-30T17:43:12.623510Z",
     "shell.execute_reply": "2022-12-30T17:43:12.622635Z",
     "shell.execute_reply.started": "2022-12-30T17:43:11.368156Z"
    }
   },
   "outputs": [],
   "source": [
    "train_images = np.asarray(train_images)\n",
    "train_input_length = np.asarray(train_input_length)\n",
    "train_label_length = np.asarray(train_label_length)\n",
    "\n",
    "valid_images = np.asarray(valid_images)\n",
    "valid_input_length = np.asarray(valid_input_length)\n",
    "valid_label_length = np.asarray(valid_label_length)\n",
    "\n",
    "test_images = np.asarray(test_images)\n",
    "test_input_length = np.asarray(test_input_length)\n",
    "test_label_length = np.asarray(test_label_length)"
   ]
  },
  {
   "cell_type": "markdown",
   "metadata": {},
   "source": [
    "# Model Building"
   ]
  },
  {
   "cell_type": "markdown",
   "metadata": {},
   "source": [
    "### Model Description\n",
    "1. The input shape for our architecture has an input image of a height of 32 and a width of 128.\n",
    "2. Here we used seven convolution layers of which 6 are having kernel size (3,3) and the last one of size (2,2). And the number of filters is increased from 64 to 512 layer by layer.\n",
    "3. Two max-pooling layers are added with size (2,2) and then two max-pooling layers of size (2,1) are added to extract features with a larger width to predict long texts.\n",
    "4. Also, we used batch normalization layers after each convolution layer which accelerate the training process.\n",
    "5. Then we reshape output from the Conv layer and make it compatible with the LSTM layer.\n",
    "6. Then we used two Bidirectional LSTM layers each of which has 256 units. This RNN layer gives the output of size (batch_size, 64, 79). Where 79 is the total number of output classes including blank characters.\n"
   ]
  },
  {
   "cell_type": "code",
   "execution_count": 10,
   "metadata": {
    "execution": {
     "iopub.execute_input": "2022-12-30T17:43:12.625280Z",
     "iopub.status.busy": "2022-12-30T17:43:12.624913Z",
     "iopub.status.idle": "2022-12-30T17:43:12.637084Z",
     "shell.execute_reply": "2022-12-30T17:43:12.636051Z",
     "shell.execute_reply.started": "2022-12-30T17:43:12.625237Z"
    }
   },
   "outputs": [
    {
     "data": {
      "text/plain": [
       "'channels_last'"
      ]
     },
     "execution_count": 10,
     "metadata": {},
     "output_type": "execute_result"
    }
   ],
   "source": [
    "from tensorflow.keras import layers\n",
    "from tensorflow.keras import Model\n",
    "from tensorflow.keras import backend as tf_keras_backend\n",
    "from keras.models import Sequential\n",
    "from keras.layers import Dense, Conv2D, MaxPool2D , Flatten, Activation\n",
    "from tensorflow.keras.layers import Input, Conv2D, MaxPool2D, Dense,MaxPooling2D\n",
    "from tensorflow.keras.layers import AveragePooling2D, Flatten, Activation, Bidirectional\n",
    "from tensorflow.keras.layers import BatchNormalization, Dropout\n",
    "from tensorflow.keras.layers import Concatenate, Add, Multiply, Lambda\n",
    "from tensorflow.keras.layers import UpSampling2D, Reshape\n",
    "from tensorflow.keras.layers import add,concatenate\n",
    "from tensorflow.keras.layers import Reshape\n",
    "from tensorflow.keras.models import Model\n",
    "from tensorflow.keras.layers import LSTM,GRU\n",
    "\n",
    "tf_keras_backend.set_image_data_format('channels_last')\n",
    "tf_keras_backend.image_data_format()"
   ]
  },
  {
   "cell_type": "code",
   "execution_count": 11,
   "metadata": {
    "execution": {
     "iopub.execute_input": "2022-12-30T17:43:12.639331Z",
     "iopub.status.busy": "2022-12-30T17:43:12.638908Z",
     "iopub.status.idle": "2022-12-30T17:43:12.653132Z",
     "shell.execute_reply": "2022-12-30T17:43:12.652242Z",
     "shell.execute_reply.started": "2022-12-30T17:43:12.639296Z"
    }
   },
   "outputs": [],
   "source": [
    "def Model():\n",
    "    # input with shape of height=32 and width=128 \n",
    "    inputs = Input(shape=(32,128,1))\n",
    "\n",
    "    drop_out_rate = 0.4\n",
    "    model = Conv2D(64, (3, 3), padding='same', name='conv1', kernel_initializer='he_normal')(inputs) \n",
    "    model = BatchNormalization()(model)\n",
    "    model = Activation('relu')(model)\n",
    "    model = MaxPooling2D(pool_size=(2, 2), name='max1')(model)\n",
    "    \n",
    "    model = Conv2D(128, (3, 3), padding='same', name='conv2', kernel_initializer='he_normal')(model) \n",
    "    model = BatchNormalization()(model)\n",
    "    model = Activation('relu')(model)\n",
    "    model = MaxPooling2D(pool_size=(2, 2), name='max2')(model) \n",
    "\n",
    "    model = Conv2D(256, (3, 3), padding='same', name='conv3', kernel_initializer='he_normal')(model) \n",
    "    model = BatchNormalization()(model)\n",
    "    model = Activation('relu')(model)\n",
    "    model = Conv2D(256, (3, 3), padding='same', name='conv4', kernel_initializer='he_normal')(model)\n",
    "    model=Dropout(drop_out_rate)(model)\n",
    "    model = BatchNormalization()(model)\n",
    "    model = Activation('relu')(model)\n",
    "    model = MaxPooling2D(pool_size=(1, 2), name='max3')(model)\n",
    "    \n",
    "    model = Conv2D(512, (3, 3), padding='same', name='conv5', kernel_initializer='he_normal')(model) \n",
    "    model = BatchNormalization()(model)\n",
    "    model = Activation('relu')(model)\n",
    "    model = Conv2D(512, (3, 3), padding='same', name='conv6')(model)\n",
    "    model=Dropout(drop_out_rate)(model)\n",
    "    model = BatchNormalization()(model)\n",
    "    model = Activation('relu')(model)\n",
    "    model = MaxPooling2D(pool_size=(1, 2), name='max4')(model) \n",
    "\n",
    "    model = Conv2D(512, (2, 2), padding='same', kernel_initializer='he_normal', name='con7')(model)\n",
    "    model=Dropout(0.25)(model)\n",
    "    model = BatchNormalization()(model)\n",
    "    model = Activation('relu')(model)    \n",
    "\n",
    "    # CNN to RNN\n",
    "    model = Reshape(target_shape=((64,-1)), name='reshape')(model)  \n",
    "    model = Dense(64, activation='relu', kernel_initializer='he_normal', name='dense1')(model)\n",
    "    \n",
    "    # RNN layer\n",
    "    model=Bidirectional(LSTM(256, return_sequences=True, kernel_initializer='he_normal'), merge_mode='sum')(model)\n",
    "    model=Bidirectional(LSTM(256, return_sequences=True, kernel_initializer='he_normal'), merge_mode='concat')(model)\n",
    "\n",
    "    # transforms RNN output to character activations:\n",
    "    model = Dense(len(char_list)+1, kernel_initializer='he_normal',name='dense2')(model) \n",
    "    outputs = Activation('softmax', name='softmax')(model)\n",
    "\n",
    "    # model to be used at test time\n",
    "    act_model = Model(inputs, outputs)\n",
    "    \n",
    "    return act_model,outputs,inputs\n",
    "    \n"
   ]
  },
  {
   "cell_type": "code",
   "execution_count": 12,
   "metadata": {
    "execution": {
     "iopub.execute_input": "2022-12-30T17:43:12.655019Z",
     "iopub.status.busy": "2022-12-30T17:43:12.654568Z",
     "iopub.status.idle": "2022-12-30T17:43:16.065763Z",
     "shell.execute_reply": "2022-12-30T17:43:16.064882Z",
     "shell.execute_reply.started": "2022-12-30T17:43:12.654986Z"
    }
   },
   "outputs": [],
   "source": [
    "act_model,outputs,inputs=Model()"
   ]
  },
  {
   "cell_type": "code",
   "execution_count": 13,
   "metadata": {
    "execution": {
     "iopub.execute_input": "2022-12-30T17:43:16.067313Z",
     "iopub.status.busy": "2022-12-30T17:43:16.066971Z",
     "iopub.status.idle": "2022-12-30T17:43:16.089660Z",
     "shell.execute_reply": "2022-12-30T17:43:16.088868Z",
     "shell.execute_reply.started": "2022-12-30T17:43:16.067278Z"
    }
   },
   "outputs": [
    {
     "name": "stdout",
     "output_type": "stream",
     "text": [
      "Model: \"model\"\n",
      "_________________________________________________________________\n",
      "Layer (type)                 Output Shape              Param #   \n",
      "=================================================================\n",
      "input_1 (InputLayer)         [(None, 32, 128, 1)]      0         \n",
      "_________________________________________________________________\n",
      "conv1 (Conv2D)               (None, 32, 128, 64)       640       \n",
      "_________________________________________________________________\n",
      "batch_normalization (BatchNo (None, 32, 128, 64)       256       \n",
      "_________________________________________________________________\n",
      "activation (Activation)      (None, 32, 128, 64)       0         \n",
      "_________________________________________________________________\n",
      "max1 (MaxPooling2D)          (None, 16, 64, 64)        0         \n",
      "_________________________________________________________________\n",
      "conv2 (Conv2D)               (None, 16, 64, 128)       73856     \n",
      "_________________________________________________________________\n",
      "batch_normalization_1 (Batch (None, 16, 64, 128)       512       \n",
      "_________________________________________________________________\n",
      "activation_1 (Activation)    (None, 16, 64, 128)       0         \n",
      "_________________________________________________________________\n",
      "max2 (MaxPooling2D)          (None, 8, 32, 128)        0         \n",
      "_________________________________________________________________\n",
      "conv3 (Conv2D)               (None, 8, 32, 256)        295168    \n",
      "_________________________________________________________________\n",
      "batch_normalization_2 (Batch (None, 8, 32, 256)        1024      \n",
      "_________________________________________________________________\n",
      "activation_2 (Activation)    (None, 8, 32, 256)        0         \n",
      "_________________________________________________________________\n",
      "conv4 (Conv2D)               (None, 8, 32, 256)        590080    \n",
      "_________________________________________________________________\n",
      "dropout (Dropout)            (None, 8, 32, 256)        0         \n",
      "_________________________________________________________________\n",
      "batch_normalization_3 (Batch (None, 8, 32, 256)        1024      \n",
      "_________________________________________________________________\n",
      "activation_3 (Activation)    (None, 8, 32, 256)        0         \n",
      "_________________________________________________________________\n",
      "max3 (MaxPooling2D)          (None, 8, 16, 256)        0         \n",
      "_________________________________________________________________\n",
      "conv5 (Conv2D)               (None, 8, 16, 512)        1180160   \n",
      "_________________________________________________________________\n",
      "batch_normalization_4 (Batch (None, 8, 16, 512)        2048      \n",
      "_________________________________________________________________\n",
      "activation_4 (Activation)    (None, 8, 16, 512)        0         \n",
      "_________________________________________________________________\n",
      "conv6 (Conv2D)               (None, 8, 16, 512)        2359808   \n",
      "_________________________________________________________________\n",
      "dropout_1 (Dropout)          (None, 8, 16, 512)        0         \n",
      "_________________________________________________________________\n",
      "batch_normalization_5 (Batch (None, 8, 16, 512)        2048      \n",
      "_________________________________________________________________\n",
      "activation_5 (Activation)    (None, 8, 16, 512)        0         \n",
      "_________________________________________________________________\n",
      "max4 (MaxPooling2D)          (None, 8, 8, 512)         0         \n",
      "_________________________________________________________________\n",
      "con7 (Conv2D)                (None, 8, 8, 512)         1049088   \n",
      "_________________________________________________________________\n",
      "dropout_2 (Dropout)          (None, 8, 8, 512)         0         \n",
      "_________________________________________________________________\n",
      "batch_normalization_6 (Batch (None, 8, 8, 512)         2048      \n",
      "_________________________________________________________________\n",
      "activation_6 (Activation)    (None, 8, 8, 512)         0         \n",
      "_________________________________________________________________\n",
      "reshape (Reshape)            (None, 64, 512)           0         \n",
      "_________________________________________________________________\n",
      "dense1 (Dense)               (None, 64, 64)            32832     \n",
      "_________________________________________________________________\n",
      "bidirectional (Bidirectional (None, 64, 256)           657408    \n",
      "_________________________________________________________________\n",
      "bidirectional_1 (Bidirection (None, 64, 512)           1050624   \n",
      "_________________________________________________________________\n",
      "dense2 (Dense)               (None, 64, 79)            40527     \n",
      "_________________________________________________________________\n",
      "softmax (Activation)         (None, 64, 79)            0         \n",
      "=================================================================\n",
      "Total params: 7,339,151\n",
      "Trainable params: 7,334,671\n",
      "Non-trainable params: 4,480\n",
      "_________________________________________________________________\n"
     ]
    }
   ],
   "source": [
    "act_model.summary()"
   ]
  },
  {
   "cell_type": "code",
   "execution_count": 14,
   "metadata": {
    "execution": {
     "iopub.execute_input": "2022-12-30T17:43:16.091247Z",
     "iopub.status.busy": "2022-12-30T17:43:16.090918Z",
     "iopub.status.idle": "2022-12-30T17:43:16.187419Z",
     "shell.execute_reply": "2022-12-30T17:43:16.186641Z",
     "shell.execute_reply.started": "2022-12-30T17:43:16.091213Z"
    }
   },
   "outputs": [],
   "source": [
    "the_labels = Input(name='the_labels', shape=[max_label_len], dtype='float32')\n",
    "input_length = Input(name='input_length', shape=[1], dtype='int64')\n",
    "label_length = Input(name='label_length', shape=[1], dtype='int64')\n",
    "\n",
    "def ctc_lambda_func(args):\n",
    "    y_pred, labels, input_length, label_length = args\n",
    "    \n",
    "    return K.ctc_batch_cost(labels, y_pred, input_length, label_length)\n",
    "\n",
    "loss_out = Lambda(ctc_lambda_func, output_shape=(1,), name='ctc')([outputs, the_labels, input_length, label_length])\n",
    "\n",
    "#model to be used at training time\n",
    "model = Model(inputs=[inputs, the_labels, input_length, label_length], outputs=loss_out)"
   ]
  },
  {
   "cell_type": "markdown",
   "metadata": {},
   "source": [
    "# Training Model"
   ]
  },
  {
   "cell_type": "code",
   "execution_count": 15,
   "metadata": {
    "execution": {
     "iopub.execute_input": "2022-12-30T17:43:16.189077Z",
     "iopub.status.busy": "2022-12-30T17:43:16.188596Z",
     "iopub.status.idle": "2022-12-30T17:43:16.193650Z",
     "shell.execute_reply": "2022-12-30T17:43:16.192541Z",
     "shell.execute_reply.started": "2022-12-30T17:43:16.189040Z"
    }
   },
   "outputs": [],
   "source": [
    "batch_size = 64\n",
    "epochs = 100\n",
    "e = str(epochs)\n",
    "optimizer_name = 'adam'"
   ]
  },
  {
   "cell_type": "code",
   "execution_count": 16,
   "metadata": {
    "execution": {
     "iopub.execute_input": "2022-12-30T17:43:16.195614Z",
     "iopub.status.busy": "2022-12-30T17:43:16.195183Z",
     "iopub.status.idle": "2022-12-30T17:43:16.217070Z",
     "shell.execute_reply": "2022-12-30T17:43:16.216356Z",
     "shell.execute_reply.started": "2022-12-30T17:43:16.195577Z"
    }
   },
   "outputs": [],
   "source": [
    "model.compile(loss={'ctc': lambda y_true, y_pred: y_pred}, optimizer = optimizer_name, metrics=['accuracy'])\n",
    "\n",
    "filepath=\"{}o-{}e-{}t-{}v.hdf5\".format(optimizer_name,\n",
    "                                          str(epochs),\n",
    "                                          str(train_images.shape[0]),\n",
    "                                          str(valid_images.shape[0]))\n",
    "\n",
    "checkpoint = ModelCheckpoint(filepath=filepath, monitor='val_accuracy', verbose=1, save_best_only=True, mode='auto')\n",
    "from keras.callbacks import EarlyStopping,ModelCheckpoint\n",
    "early_stop=EarlyStopping(monitor='val_accuracy',patience=5,restore_best_weights=True)\n",
    "callbacks_list = [checkpoint, early_stop]\n"
   ]
  },
  {
   "cell_type": "code",
   "execution_count": 17,
   "metadata": {
    "_kg_hide-output": true,
    "execution": {
     "iopub.execute_input": "2022-12-30T17:43:16.218728Z",
     "iopub.status.busy": "2022-12-30T17:43:16.218421Z",
     "iopub.status.idle": "2022-12-30T19:16:39.577631Z",
     "shell.execute_reply": "2022-12-30T19:16:39.576266Z",
     "shell.execute_reply.started": "2022-12-30T17:43:16.218696Z"
    },
    "scrolled": true
   },
   "outputs": [
    {
     "name": "stdout",
     "output_type": "stream",
     "text": [
      "Epoch 1/100\n",
      "906/906 [==============================] - 103s 103ms/step - loss: 13.7702 - accuracy: 0.0346 - val_loss: 9.6100 - val_accuracy: 0.1766\n",
      "\n",
      "Epoch 00001: val_accuracy improved from -inf to 0.17660, saving model to adamo-100e-57924t-19287v.hdf5\n",
      "Epoch 2/100\n",
      "906/906 [==============================] - 92s 101ms/step - loss: 8.4297 - accuracy: 0.1926 - val_loss: 7.5924 - val_accuracy: 0.2229\n",
      "\n",
      "Epoch 00002: val_accuracy improved from 0.17660 to 0.22295, saving model to adamo-100e-57924t-19287v.hdf5\n",
      "Epoch 3/100\n",
      "906/906 [==============================] - 92s 102ms/step - loss: 6.3964 - accuracy: 0.2795 - val_loss: 6.1089 - val_accuracy: 0.3123\n",
      "\n",
      "Epoch 00003: val_accuracy improved from 0.22295 to 0.31228, saving model to adamo-100e-57924t-19287v.hdf5\n",
      "Epoch 4/100\n",
      "906/906 [==============================] - 92s 102ms/step - loss: 5.0653 - accuracy: 0.3397 - val_loss: 5.0737 - val_accuracy: 0.3629\n",
      "\n",
      "Epoch 00004: val_accuracy improved from 0.31228 to 0.36289, saving model to adamo-100e-57924t-19287v.hdf5\n",
      "Epoch 5/100\n",
      "906/906 [==============================] - 92s 102ms/step - loss: 4.1639 - accuracy: 0.3842 - val_loss: 5.2100 - val_accuracy: 0.3699\n",
      "\n",
      "Epoch 00005: val_accuracy improved from 0.36289 to 0.36989, saving model to adamo-100e-57924t-19287v.hdf5\n",
      "Epoch 6/100\n",
      "906/906 [==============================] - 92s 102ms/step - loss: 3.5102 - accuracy: 0.4250 - val_loss: 4.0339 - val_accuracy: 0.4395\n",
      "\n",
      "Epoch 00006: val_accuracy improved from 0.36989 to 0.43952, saving model to adamo-100e-57924t-19287v.hdf5\n",
      "Epoch 7/100\n",
      "906/906 [==============================] - 92s 101ms/step - loss: 2.8783 - accuracy: 0.4749 - val_loss: 3.7174 - val_accuracy: 0.4203\n",
      "\n",
      "Epoch 00007: val_accuracy did not improve from 0.43952\n",
      "Epoch 8/100\n",
      "906/906 [==============================] - 91s 100ms/step - loss: 2.6726 - accuracy: 0.4879 - val_loss: 3.9297 - val_accuracy: 0.4706\n",
      "\n",
      "Epoch 00008: val_accuracy improved from 0.43952 to 0.47058, saving model to adamo-100e-57924t-19287v.hdf5\n",
      "Epoch 9/100\n",
      "906/906 [==============================] - 91s 100ms/step - loss: 2.2391 - accuracy: 0.5274 - val_loss: 3.4278 - val_accuracy: 0.4985\n",
      "\n",
      "Epoch 00009: val_accuracy improved from 0.47058 to 0.49852, saving model to adamo-100e-57924t-19287v.hdf5\n",
      "Epoch 10/100\n",
      "906/906 [==============================] - 90s 100ms/step - loss: 1.9250 - accuracy: 0.5595 - val_loss: 3.4907 - val_accuracy: 0.4776\n",
      "\n",
      "Epoch 00010: val_accuracy did not improve from 0.49852\n",
      "Epoch 11/100\n",
      "906/906 [==============================] - 90s 99ms/step - loss: 1.7347 - accuracy: 0.5744 - val_loss: 2.9887 - val_accuracy: 0.5393\n",
      "\n",
      "Epoch 00011: val_accuracy improved from 0.49852 to 0.53928, saving model to adamo-100e-57924t-19287v.hdf5\n",
      "Epoch 12/100\n",
      "906/906 [==============================] - 90s 100ms/step - loss: 1.5322 - accuracy: 0.6031 - val_loss: 3.0305 - val_accuracy: 0.5552\n",
      "\n",
      "Epoch 00012: val_accuracy improved from 0.53928 to 0.55519, saving model to adamo-100e-57924t-19287v.hdf5\n",
      "Epoch 13/100\n",
      "906/906 [==============================] - 90s 99ms/step - loss: 1.4204 - accuracy: 0.6249 - val_loss: 3.4660 - val_accuracy: 0.5417\n",
      "\n",
      "Epoch 00013: val_accuracy did not improve from 0.55519\n",
      "Epoch 14/100\n",
      "906/906 [==============================] - 90s 99ms/step - loss: 1.2432 - accuracy: 0.6541 - val_loss: 2.8486 - val_accuracy: 0.5867\n",
      "\n",
      "Epoch 00014: val_accuracy improved from 0.55519 to 0.58666, saving model to adamo-100e-57924t-19287v.hdf5\n",
      "Epoch 15/100\n",
      "906/906 [==============================] - 91s 100ms/step - loss: 1.2358 - accuracy: 0.6503 - val_loss: 2.7719 - val_accuracy: 0.5962\n",
      "\n",
      "Epoch 00015: val_accuracy improved from 0.58666 to 0.59620, saving model to adamo-100e-57924t-19287v.hdf5\n",
      "Epoch 16/100\n",
      "906/906 [==============================] - 91s 100ms/step - loss: 1.0094 - accuracy: 0.6850 - val_loss: 2.9234 - val_accuracy: 0.5858\n",
      "\n",
      "Epoch 00016: val_accuracy did not improve from 0.59620\n",
      "Epoch 17/100\n",
      "906/906 [==============================] - 90s 100ms/step - loss: 0.9373 - accuracy: 0.7009 - val_loss: 2.8435 - val_accuracy: 0.6016\n",
      "\n",
      "Epoch 00017: val_accuracy improved from 0.59620 to 0.60160, saving model to adamo-100e-57924t-19287v.hdf5\n",
      "Epoch 18/100\n",
      "906/906 [==============================] - 91s 100ms/step - loss: 0.8501 - accuracy: 0.7179 - val_loss: 2.8734 - val_accuracy: 0.5993\n",
      "\n",
      "Epoch 00018: val_accuracy did not improve from 0.60160\n",
      "Epoch 19/100\n",
      "906/906 [==============================] - 90s 100ms/step - loss: 0.8727 - accuracy: 0.7197 - val_loss: 2.5784 - val_accuracy: 0.6340\n",
      "\n",
      "Epoch 00019: val_accuracy improved from 0.60160 to 0.63400, saving model to adamo-100e-57924t-19287v.hdf5\n",
      "Epoch 20/100\n",
      "906/906 [==============================] - 91s 100ms/step - loss: 0.6795 - accuracy: 0.7573 - val_loss: 2.9612 - val_accuracy: 0.5996\n",
      "\n",
      "Epoch 00020: val_accuracy did not improve from 0.63400\n",
      "Epoch 21/100\n",
      "906/906 [==============================] - 91s 100ms/step - loss: 0.7317 - accuracy: 0.7472 - val_loss: 2.8116 - val_accuracy: 0.6299\n",
      "\n",
      "Epoch 00021: val_accuracy did not improve from 0.63400\n",
      "Epoch 22/100\n",
      "906/906 [==============================] - 91s 100ms/step - loss: 0.6888 - accuracy: 0.7576 - val_loss: 2.8474 - val_accuracy: 0.6369\n",
      "\n",
      "Epoch 00022: val_accuracy improved from 0.63400 to 0.63685, saving model to adamo-100e-57924t-19287v.hdf5\n",
      "Epoch 23/100\n",
      "906/906 [==============================] - 91s 100ms/step - loss: 0.6599 - accuracy: 0.7635 - val_loss: 3.0557 - val_accuracy: 0.5673\n",
      "\n",
      "Epoch 00023: val_accuracy did not improve from 0.63685\n",
      "Epoch 24/100\n",
      "906/906 [==============================] - 91s 101ms/step - loss: 0.5780 - accuracy: 0.7853 - val_loss: 3.1209 - val_accuracy: 0.6114\n",
      "\n",
      "Epoch 00024: val_accuracy did not improve from 0.63685\n",
      "Epoch 25/100\n",
      "906/906 [==============================] - 91s 100ms/step - loss: 0.5440 - accuracy: 0.7930 - val_loss: 2.7259 - val_accuracy: 0.6451\n",
      "\n",
      "Epoch 00025: val_accuracy improved from 0.63685 to 0.64510, saving model to adamo-100e-57924t-19287v.hdf5\n",
      "Epoch 26/100\n",
      "906/906 [==============================] - 91s 100ms/step - loss: 0.4590 - accuracy: 0.8133 - val_loss: 3.0604 - val_accuracy: 0.6374\n",
      "\n",
      "Epoch 00026: val_accuracy did not improve from 0.64510\n",
      "Epoch 27/100\n",
      "906/906 [==============================] - 91s 101ms/step - loss: 0.4960 - accuracy: 0.8005 - val_loss: 2.9422 - val_accuracy: 0.6190\n",
      "\n",
      "Epoch 00027: val_accuracy did not improve from 0.64510\n",
      "Epoch 28/100\n",
      "906/906 [==============================] - 91s 100ms/step - loss: 0.4654 - accuracy: 0.8114 - val_loss: 3.1329 - val_accuracy: 0.6457\n",
      "\n",
      "Epoch 00028: val_accuracy improved from 0.64510 to 0.64572, saving model to adamo-100e-57924t-19287v.hdf5\n",
      "Epoch 29/100\n",
      "906/906 [==============================] - 92s 102ms/step - loss: 0.5188 - accuracy: 0.8035 - val_loss: 2.8640 - val_accuracy: 0.6497\n",
      "\n",
      "Epoch 00029: val_accuracy improved from 0.64572 to 0.64966, saving model to adamo-100e-57924t-19287v.hdf5\n",
      "Epoch 30/100\n",
      "906/906 [==============================] - 93s 102ms/step - loss: 0.4251 - accuracy: 0.8298 - val_loss: 2.9627 - val_accuracy: 0.6525\n",
      "\n",
      "Epoch 00030: val_accuracy improved from 0.64966 to 0.65251, saving model to adamo-100e-57924t-19287v.hdf5\n",
      "Epoch 31/100\n",
      "906/906 [==============================] - 92s 102ms/step - loss: 0.4747 - accuracy: 0.8179 - val_loss: 2.7610 - val_accuracy: 0.6606\n",
      "\n",
      "Epoch 00031: val_accuracy improved from 0.65251 to 0.66060, saving model to adamo-100e-57924t-19287v.hdf5\n",
      "Epoch 32/100\n",
      "906/906 [==============================] - 92s 102ms/step - loss: 0.5109 - accuracy: 0.8070 - val_loss: 3.0641 - val_accuracy: 0.6534\n",
      "\n",
      "Epoch 00032: val_accuracy did not improve from 0.66060\n",
      "Epoch 33/100\n",
      "906/906 [==============================] - 92s 101ms/step - loss: 0.4126 - accuracy: 0.8351 - val_loss: 4.6396 - val_accuracy: 0.4612\n",
      "\n",
      "Epoch 00033: val_accuracy did not improve from 0.66060\n",
      "Epoch 34/100\n",
      "906/906 [==============================] - 92s 101ms/step - loss: 0.4664 - accuracy: 0.8234 - val_loss: 2.9131 - val_accuracy: 0.6594\n",
      "\n",
      "Epoch 00034: val_accuracy did not improve from 0.66060\n",
      "Epoch 35/100\n",
      "906/906 [==============================] - 92s 102ms/step - loss: 0.3132 - accuracy: 0.8653 - val_loss: 2.9389 - val_accuracy: 0.6647\n",
      "\n",
      "Epoch 00035: val_accuracy improved from 0.66060 to 0.66470, saving model to adamo-100e-57924t-19287v.hdf5\n",
      "Epoch 36/100\n",
      "906/906 [==============================] - 92s 101ms/step - loss: 0.3951 - accuracy: 0.8420 - val_loss: 3.0384 - val_accuracy: 0.6574\n",
      "\n",
      "Epoch 00036: val_accuracy did not improve from 0.66470\n",
      "Epoch 37/100\n",
      "906/906 [==============================] - 92s 102ms/step - loss: 0.4816 - accuracy: 0.8241 - val_loss: 3.1255 - val_accuracy: 0.6467\n",
      "\n",
      "Epoch 00037: val_accuracy did not improve from 0.66470\n",
      "Epoch 38/100\n",
      "906/906 [==============================] - 92s 102ms/step - loss: 0.4542 - accuracy: 0.8337 - val_loss: 2.9077 - val_accuracy: 0.6777\n",
      "\n",
      "Epoch 00038: val_accuracy improved from 0.66470 to 0.67766, saving model to adamo-100e-57924t-19287v.hdf5\n",
      "Epoch 39/100\n",
      "906/906 [==============================] - 91s 100ms/step - loss: 0.2641 - accuracy: 0.8836 - val_loss: 2.9671 - val_accuracy: 0.6560\n",
      "\n",
      "Epoch 00039: val_accuracy did not improve from 0.67766\n",
      "Epoch 40/100\n",
      "906/906 [==============================] - 90s 100ms/step - loss: 0.3051 - accuracy: 0.8714 - val_loss: 3.0250 - val_accuracy: 0.6572\n",
      "\n",
      "Epoch 00040: val_accuracy did not improve from 0.67766\n",
      "Epoch 41/100\n",
      "906/906 [==============================] - 90s 99ms/step - loss: 0.3914 - accuracy: 0.8473 - val_loss: 3.2285 - val_accuracy: 0.6462\n",
      "\n",
      "Epoch 00041: val_accuracy did not improve from 0.67766\n",
      "Epoch 42/100\n",
      "906/906 [==============================] - 91s 100ms/step - loss: 0.4004 - accuracy: 0.8413 - val_loss: 2.9539 - val_accuracy: 0.6758\n",
      "\n",
      "Epoch 00042: val_accuracy did not improve from 0.67766\n",
      "Epoch 43/100\n",
      "906/906 [==============================] - 93s 102ms/step - loss: 0.3379 - accuracy: 0.8616 - val_loss: 2.8780 - val_accuracy: 0.6805\n",
      "\n",
      "Epoch 00043: val_accuracy improved from 0.67766 to 0.68051, saving model to adamo-100e-57924t-19287v.hdf5\n",
      "Epoch 44/100\n",
      "906/906 [==============================] - 92s 102ms/step - loss: 0.2089 - accuracy: 0.9049 - val_loss: 3.0279 - val_accuracy: 0.6707\n",
      "\n",
      "Epoch 00044: val_accuracy did not improve from 0.68051\n",
      "Epoch 45/100\n",
      "906/906 [==============================] - 93s 102ms/step - loss: 0.2836 - accuracy: 0.8795 - val_loss: 2.9538 - val_accuracy: 0.6770\n",
      "\n",
      "Epoch 00045: val_accuracy did not improve from 0.68051\n",
      "Epoch 46/100\n",
      "906/906 [==============================] - 93s 102ms/step - loss: 0.3014 - accuracy: 0.8742 - val_loss: 2.9034 - val_accuracy: 0.6754\n",
      "\n",
      "Epoch 00046: val_accuracy did not improve from 0.68051\n",
      "Epoch 47/100\n",
      "906/906 [==============================] - 92s 101ms/step - loss: 0.2991 - accuracy: 0.8770 - val_loss: 3.0494 - val_accuracy: 0.6713\n",
      "\n",
      "Epoch 00047: val_accuracy did not improve from 0.68051\n",
      "Epoch 48/100\n",
      "906/906 [==============================] - 92s 101ms/step - loss: 0.3021 - accuracy: 0.8727 - val_loss: 2.9807 - val_accuracy: 0.6828\n",
      "\n",
      "Epoch 00048: val_accuracy improved from 0.68051 to 0.68279, saving model to adamo-100e-57924t-19287v.hdf5\n",
      "Epoch 49/100\n",
      "906/906 [==============================] - 91s 101ms/step - loss: 0.2370 - accuracy: 0.8948 - val_loss: 3.1202 - val_accuracy: 0.6789\n",
      "\n",
      "Epoch 00049: val_accuracy did not improve from 0.68279\n",
      "Epoch 50/100\n",
      "906/906 [==============================] - 91s 101ms/step - loss: 0.3017 - accuracy: 0.8789 - val_loss: 3.2871 - val_accuracy: 0.6666\n",
      "\n",
      "Epoch 00050: val_accuracy did not improve from 0.68279\n",
      "Epoch 51/100\n",
      "906/906 [==============================] - 92s 101ms/step - loss: 0.3643 - accuracy: 0.8569 - val_loss: 3.1443 - val_accuracy: 0.6765\n",
      "\n",
      "Epoch 00051: val_accuracy did not improve from 0.68279\n",
      "Epoch 52/100\n",
      "906/906 [==============================] - 93s 102ms/step - loss: 0.3460 - accuracy: 0.8734 - val_loss: 3.1287 - val_accuracy: 0.6678\n",
      "\n",
      "Epoch 00052: val_accuracy did not improve from 0.68279\n",
      "Epoch 53/100\n",
      "906/906 [==============================] - 92s 102ms/step - loss: 0.2973 - accuracy: 0.8765 - val_loss: 2.9831 - val_accuracy: 0.6842\n",
      "\n",
      "Epoch 00053: val_accuracy improved from 0.68279 to 0.68419, saving model to adamo-100e-57924t-19287v.hdf5\n",
      "Epoch 54/100\n",
      "906/906 [==============================] - 93s 102ms/step - loss: 0.6583 - accuracy: 0.8221 - val_loss: 3.1162 - val_accuracy: 0.6707\n",
      "\n",
      "Epoch 00054: val_accuracy did not improve from 0.68419\n",
      "Epoch 55/100\n",
      "906/906 [==============================] - 92s 102ms/step - loss: 0.2823 - accuracy: 0.8790 - val_loss: 3.0551 - val_accuracy: 0.6817\n",
      "\n",
      "Epoch 00055: val_accuracy did not improve from 0.68419\n",
      "Epoch 56/100\n",
      "906/906 [==============================] - 93s 102ms/step - loss: 0.2110 - accuracy: 0.9070 - val_loss: 3.0427 - val_accuracy: 0.6881\n",
      "\n",
      "Epoch 00056: val_accuracy improved from 0.68419 to 0.68813, saving model to adamo-100e-57924t-19287v.hdf5\n",
      "Epoch 57/100\n",
      "906/906 [==============================] - 92s 102ms/step - loss: 0.3435 - accuracy: 0.8758 - val_loss: 3.0228 - val_accuracy: 0.6722\n",
      "\n",
      "Epoch 00057: val_accuracy did not improve from 0.68813\n",
      "Epoch 58/100\n",
      "906/906 [==============================] - 93s 102ms/step - loss: 0.2558 - accuracy: 0.8905 - val_loss: 3.0046 - val_accuracy: 0.6877\n",
      "\n",
      "Epoch 00058: val_accuracy did not improve from 0.68813\n",
      "Epoch 59/100\n",
      "906/906 [==============================] - 92s 102ms/step - loss: 0.2721 - accuracy: 0.8900 - val_loss: 3.2130 - val_accuracy: 0.6769\n",
      "\n",
      "Epoch 00059: val_accuracy did not improve from 0.68813\n",
      "Epoch 60/100\n",
      "906/906 [==============================] - 93s 102ms/step - loss: 0.3919 - accuracy: 0.8621 - val_loss: 3.0441 - val_accuracy: 0.6792\n",
      "\n",
      "Epoch 00060: val_accuracy did not improve from 0.68813\n",
      "Epoch 61/100\n",
      "906/906 [==============================] - 93s 102ms/step - loss: 0.2322 - accuracy: 0.8992 - val_loss: 3.0960 - val_accuracy: 0.6841\n",
      "\n",
      "Epoch 00061: val_accuracy did not improve from 0.68813\n"
     ]
    }
   ],
   "source": [
    "history = model.fit(x=[train_images, train_padded_label, train_input_length, train_label_length],\n",
    "                    y=np.zeros(len(train_images)),\n",
    "                    batch_size=batch_size, \n",
    "                    epochs=epochs, \n",
    "                    validation_data=([valid_images, valid_padded_label, valid_input_length, valid_label_length], [np.zeros(len(valid_images))]),\n",
    "                    verbose=1,\n",
    "                    callbacks=callbacks_list)\n"
   ]
  },
  {
   "cell_type": "code",
   "execution_count": 18,
   "metadata": {
    "execution": {
     "iopub.execute_input": "2022-12-30T19:16:39.579588Z",
     "iopub.status.busy": "2022-12-30T19:16:39.579245Z",
     "iopub.status.idle": "2022-12-30T19:16:39.804751Z",
     "shell.execute_reply": "2022-12-30T19:16:39.803876Z",
     "shell.execute_reply.started": "2022-12-30T19:16:39.579548Z"
    }
   },
   "outputs": [],
   "source": [
    "model.save(filepath='./model_AB_BS64_FULL.h5', overwrite=True, include_optimizer=True)"
   ]
  },
  {
   "cell_type": "markdown",
   "metadata": {},
   "source": [
    "# Performance check"
   ]
  },
  {
   "cell_type": "markdown",
   "metadata": {},
   "source": [
    "For computing the performance, We will be using the **Jaro-Winkler** algorithm to detect similarity between the captured text and the actual text."
   ]
  },
  {
   "cell_type": "code",
   "execution_count": 19,
   "metadata": {
    "execution": {
     "iopub.execute_input": "2022-12-30T19:16:39.806469Z",
     "iopub.status.busy": "2022-12-30T19:16:39.806134Z",
     "iopub.status.idle": "2022-12-30T19:16:53.685166Z",
     "shell.execute_reply": "2022-12-30T19:16:53.684241Z",
     "shell.execute_reply.started": "2022-12-30T19:16:39.806433Z"
    }
   },
   "outputs": [
    {
     "name": "stdout",
     "output_type": "stream",
     "text": [
      "jaro : 0.9306504488427468\n"
     ]
    }
   ],
   "source": [
    "\n",
    "# filepath='adamo-100e-57924t-19287v.hdf5'\n",
    "# load the saved best model weights\n",
    "act_model.load_weights(filepath)\n",
    "\n",
    "# predict outputs on validation images\n",
    "prediction = act_model.predict(valid_images)\n",
    " \n",
    "# use CTC decoder\n",
    "decoded = K.ctc_decode(prediction, \n",
    "                       input_length=np.ones(prediction.shape[0]) * prediction.shape[1],\n",
    "                       greedy=True)[0][0]\n",
    "out = K.get_value(decoded)\n",
    "\n",
    "import Levenshtein as lv\n",
    "\n",
    "total_jaro = 0\n",
    "\n",
    "# see the results\n",
    "for i, x in enumerate(out):\n",
    "    letters=''\n",
    "    for p in x:\n",
    "        if int(p) != -1:\n",
    "            letters+=char_list[int(p)]\n",
    "    total_jaro+=lv.jaro(letters, valid_original_text[i])\n",
    "\n",
    "print('jaro :', total_jaro/len(out))\n"
   ]
  },
  {
   "cell_type": "code",
   "execution_count": 1,
   "metadata": {},
   "outputs": [
    {
     "name": "stdout",
     "output_type": "stream",
     "text": [
      "jaro : 0.9296586950035265\n"
     ]
    }
   ],
   "source": [
    "# filepath='adamo-100e-57924t-19287v.hdf5'\n",
    "# load the saved best model weights\n",
    "act_model.load_weights(filepath)\n",
    "\n",
    "# predict outputs on validation images\n",
    "prediction = act_model.predict(test_images)\n",
    " \n",
    "# use CTC decoder\n",
    "decoded = K.ctc_decode(prediction, \n",
    "                       input_length=np.ones(prediction.shape[0]) * prediction.shape[1],\n",
    "                       greedy=True)[0][0]\n",
    "out = K.get_value(decoded)\n",
    "\n",
    "import Levenshtein as lv\n",
    "\n",
    "total_jaro = 0\n",
    "\n",
    "# see the results\n",
    "for i, x in enumerate(out):\n",
    "    letters=''\n",
    "    for p in x:\n",
    "        if int(p) != -1:\n",
    "            letters+=char_list[int(p)]\n",
    "    total_jaro+=lv.jaro(letters, test_original_text[i])\n",
    "\n",
    "print('jaro :', total_jaro/len(out))"
   ]
  },
  {
   "cell_type": "code",
   "execution_count": 21,
   "metadata": {
    "execution": {
     "iopub.execute_input": "2022-12-30T19:16:54.587798Z",
     "iopub.status.busy": "2022-12-30T19:16:54.587416Z",
     "iopub.status.idle": "2022-12-30T19:16:54.599735Z",
     "shell.execute_reply": "2022-12-30T19:16:54.598704Z",
     "shell.execute_reply.started": "2022-12-30T19:16:54.587759Z"
    }
   },
   "outputs": [],
   "source": [
    "def accuracies(model,test_images,test_labels):\n",
    "    \n",
    "    accuracy=0\n",
    "    letter_acc=0\n",
    "    letter_cnt=0\n",
    "    count=0\n",
    "    \n",
    "    prediction = model.predict(test_images)\n",
    "    \n",
    "    # use CTC decoder\n",
    "    decoded = K.ctc_decode(prediction,   \n",
    "                           input_length=np.ones(prediction.shape[0]) * prediction.shape[1],\n",
    "                           greedy=True)[0][0]\n",
    "\n",
    "    out = K.get_value(decoded)\n",
    "    predicted_labels = []\n",
    "    for _, x in enumerate(out):\n",
    "        s = ''\n",
    "        for p in x:\n",
    "            if int(p) != -1:\n",
    "                s = s+char_list[int(p)]\n",
    "        predicted_labels.append(s)\n",
    "        \n",
    "    \n",
    "    for i in range(len(test_labels)):\n",
    "        predicted_output=predicted_labels[i]\n",
    "        actual_output=test_labels[i]\n",
    "        count+=1\n",
    "        for j in range(min(len(predicted_output),len(actual_output))):\n",
    "            if predicted_output[j]==actual_output[j]:\n",
    "                letter_acc+=1\n",
    "        letter_cnt+=max(len(predicted_output),len(actual_output))\n",
    "        if actual_output==predicted_output:\n",
    "            accuracy+=1\n",
    "    final_accuracy=np.round((accuracy/len(test_labels))*100,2)\n",
    "    final_letter_acc=np.round((letter_acc/letter_cnt)*100,2)\n",
    "    \n",
    "    return final_accuracy,final_letter_acc"
   ]
  },
  {
   "cell_type": "code",
   "execution_count": 22,
   "metadata": {
    "execution": {
     "iopub.execute_input": "2022-12-30T19:16:54.601958Z",
     "iopub.status.busy": "2022-12-30T19:16:54.601338Z",
     "iopub.status.idle": "2022-12-30T19:17:06.674734Z",
     "shell.execute_reply": "2022-12-30T19:17:06.673846Z",
     "shell.execute_reply.started": "2022-12-30T19:16:54.601920Z"
    }
   },
   "outputs": [
    {
     "name": "stdout",
     "output_type": "stream",
     "text": [
      "Validation Average Word Accuracy :  71.72  %\n",
      "Validation Average Letter Accuracy  78.25  %\n"
     ]
    }
   ],
   "source": [
    "accuracy,letter_acc = accuracies(act_model, valid_images, valid_original_text)\n",
    "print(\"Validation Average Word Accuracy : \",np.round(accuracy,2),\" %\")\n",
    "print(\"Validation Average Letter Accuracy \",np.round(letter_acc,2),\" %\")"
   ]
  },
  {
   "cell_type": "code",
   "execution_count": 30,
   "metadata": {
    "execution": {
     "iopub.execute_input": "2022-12-30T19:21:51.120592Z",
     "iopub.status.busy": "2022-12-30T19:21:51.120230Z",
     "iopub.status.idle": "2022-12-30T19:22:02.644136Z",
     "shell.execute_reply": "2022-12-30T19:22:02.643293Z",
     "shell.execute_reply.started": "2022-12-30T19:21:51.120561Z"
    }
   },
   "outputs": [
    {
     "name": "stdout",
     "output_type": "stream",
     "text": [
      "Testing Average Word Accuracy :  71.02  %\n",
      "Testing Average Letter Accuracy  77.76  %\n"
     ]
    }
   ],
   "source": [
    "accuracy,letter_acc = accuracies(act_model, test_images, test_original_text)\n",
    "print(\"Testing Average Word Accuracy : \",np.round(accuracy,2),\" %\")\n",
    "print(\"Testing Average Letter Accuracy \",np.round(letter_acc,2),\" %\")"
   ]
  },
  {
   "cell_type": "markdown",
   "metadata": {},
   "source": [
    "# Visualization of Loss and Acurracy"
   ]
  },
  {
   "cell_type": "code",
   "execution_count": 35,
   "metadata": {
    "execution": {
     "iopub.execute_input": "2022-12-30T19:25:09.730104Z",
     "iopub.status.busy": "2022-12-30T19:25:09.729764Z",
     "iopub.status.idle": "2022-12-30T19:25:09.734967Z",
     "shell.execute_reply": "2022-12-30T19:25:09.734008Z",
     "shell.execute_reply.started": "2022-12-30T19:25:09.730070Z"
    }
   },
   "outputs": [],
   "source": [
    "#plot accuracy and loss\n",
    "def plotgraph(epochs, acc, val_acc, name):\n",
    "    # Plot training & validation accuracy values\n",
    "    plt.plot(epochs, acc, 'b')\n",
    "    plt.plot(epochs, val_acc, 'r')\n",
    "    plt.xlabel('Epoch')\n",
    "    plt.title(name)\n",
    "    plt.legend(['Train', 'Val'], loc='upper left')\n",
    "    plt.show()"
   ]
  },
  {
   "cell_type": "code",
   "execution_count": 36,
   "metadata": {
    "execution": {
     "iopub.execute_input": "2022-12-30T19:25:10.022543Z",
     "iopub.status.busy": "2022-12-30T19:25:10.022180Z",
     "iopub.status.idle": "2022-12-30T19:25:10.027367Z",
     "shell.execute_reply": "2022-12-30T19:25:10.026106Z",
     "shell.execute_reply.started": "2022-12-30T19:25:10.022509Z"
    }
   },
   "outputs": [],
   "source": [
    "\n",
    "acc = history.history['accuracy']\n",
    "val_acc = history.history['val_accuracy']\n",
    "loss = history.history['loss']\n",
    "val_loss = history.history['val_loss']\n",
    "epochs = range(1,len(loss)+1)\n"
   ]
  },
  {
   "cell_type": "code",
   "execution_count": 37,
   "metadata": {
    "execution": {
     "iopub.execute_input": "2022-12-30T19:25:10.375105Z",
     "iopub.status.busy": "2022-12-30T19:25:10.374766Z",
     "iopub.status.idle": "2022-12-30T19:25:10.515989Z",
     "shell.execute_reply": "2022-12-30T19:25:10.515075Z",
     "shell.execute_reply.started": "2022-12-30T19:25:10.375073Z"
    }
   },
   "outputs": [
    {
     "data": {
      "image/png": "[encoded data removed]",
      "text/plain": [
       "<Figure size 432x288 with 1 Axes>"
      ]
     },
     "metadata": {
      "needs_background": "light"
     },
     "output_type": "display_data"
    }
   ],
   "source": [
    "plotgraph(epochs, loss, val_loss, 'Loss')"
   ]
  },
  {
   "cell_type": "code",
   "execution_count": 38,
   "metadata": {
    "execution": {
     "iopub.execute_input": "2022-12-30T19:25:20.437255Z",
     "iopub.status.busy": "2022-12-30T19:25:20.436912Z",
     "iopub.status.idle": "2022-12-30T19:25:20.564268Z",
     "shell.execute_reply": "2022-12-30T19:25:20.563289Z",
     "shell.execute_reply.started": "2022-12-30T19:25:20.437220Z"
    }
   },
   "outputs": [
    {
     "data": {
      "image/png": "[encoded data removed]",
      "text/plain": [
       "<Figure size 432x288 with 1 Axes>"
      ]
     },
     "metadata": {
      "needs_background": "light"
     },
     "output_type": "display_data"
    }
   ],
   "source": [
    "plotgraph(epochs, acc, val_acc, 'Accuracy')"
   ]
  },
  {
   "cell_type": "code",
   "execution_count": null,
   "metadata": {},
   "outputs": [],
   "source": []
  }
 ],
 "metadata": {
  "kernelspec": {
   "display_name": "Python 3",
   "language": "python",
   "name": "python3"
  },
  "language_info": {
   "codemirror_mode": {
    "name": "ipython",
    "version": 3
   },
   "file_extension": ".py",
   "mimetype": "text/x-python",
   "name": "python",
   "nbconvert_exporter": "python",
   "pygments_lexer": "ipython3",
   "version": "3.8.5"
  },
  "vscode": {
   "interpreter": {
    "hash": "916dbcbb3f70747c44a77c7bcd40155683ae19c65e1c03b4aa3499c5328201f1"
   }
  }
 },
 "nbformat": 4,
 "nbformat_minor": 4
}
